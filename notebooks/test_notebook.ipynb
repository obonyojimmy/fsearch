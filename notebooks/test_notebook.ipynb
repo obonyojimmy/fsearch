{
 "cells": [
  {
   "cell_type": "code",
   "execution_count": 1,
   "metadata": {},
   "outputs": [],
   "source": [
    "\"\"\"This module provides the configuration object for fsearch package.\"\"\"\n",
    "# fsearch/config.py\n",
    "\n",
    "from dataclasses import dataclass, field, fields\n",
    "\n",
    "@dataclass\n",
    "class Config:\n",
    "    \"\"\" The base server configuration object \"\"\"\n",
    "    host: str = '0.0.0.0'\n",
    "    port: int = 8080\n",
    "    certfile: str = 'server.crt'\n",
    "    keyfile: str = 'server.key'\n",
    "    log_level: str = 'INFO'\n",
    "    linuxpath: str = 'samples/200k.txt'\n",
    "    reread_on_query: bool = False\n",
    "    extra: dict = field(default_factory=dict)\n",
    "\n",
    "    def __post_init__(self):\n",
    "        for key, value in self.extra.items():\n",
    "            setattr(self, key, value)\n",
    "\n",
    "    def __init__(self, **kwargs):\n",
    "        # Initialize the dataclass fields\n",
    "        for f in fields(self):\n",
    "            if f.name in kwargs:\n",
    "                setattr(self, f.name, kwargs.pop(f.name))\n",
    "            else:\n",
    "                setattr(self, f.name, f.default)\n",
    "\n",
    "        # Store any additional kwargs in the extra dictionary\n",
    "        self.extra = kwargs\n",
    "\n",
    "config = Config(**{'Server': 'abc'})"
   ]
  }
 ],
 "metadata": {
  "kernelspec": {
   "display_name": "fsearch",
   "language": "python",
   "name": "python3"
  },
  "language_info": {
   "codemirror_mode": {
    "name": "ipython",
    "version": 3
   },
   "file_extension": ".py",
   "mimetype": "text/x-python",
   "name": "python",
   "nbconvert_exporter": "python",
   "pygments_lexer": "ipython3",
   "version": "3.7.12"
  }
 },
 "nbformat": 4,
 "nbformat_minor": 2
}
