{
 "cells": [
  {
   "cell_type": "code",
   "execution_count": 1,
   "metadata": {},
   "outputs": [],
   "source": [
    "## install\n",
    "!python -m pip install -q -e .."
   ]
  },
  {
   "cell_type": "code",
   "execution_count": 1,
   "metadata": {},
   "outputs": [],
   "source": [
    "\n",
    "from fsearch.config import Config\n",
    "\n",
    "config = Config(**{'Server': 'abc'})"
   ]
  },
  {
   "cell_type": "code",
   "execution_count": 2,
   "metadata": {},
   "outputs": [],
   "source": [
    "from fsearch.utils import read_file\n",
    "\n",
    "filepath = \"../samples/200k.txt\"\n",
    "file_contents = read_file(filepath)"
   ]
  },
  {
   "cell_type": "code",
   "execution_count": 10,
   "metadata": {},
   "outputs": [
    {
     "name": "stdout",
     "output_type": "stream",
     "text": [
      "native_search: False\n",
      "regex_search: False\n",
      "rabin_karp: True\n",
      "kmp_search: True\n"
     ]
    }
   ],
   "source": [
    "from fsearch.algorithms import native_search, regex_search, rabin_karp, kmp_search, AhoCorasick\n",
    "\n",
    "query = \"13;0;1;26;0;9;4;0;\"\n",
    "query = \"13;0;1;\"\n",
    "## native_search\n",
    "found = native_search(file_contents, query)\n",
    "print('native_search:', found)\n",
    "## regex_search\n",
    "found = regex_search(file_contents, query)\n",
    "print('regex_search:', found)\n",
    "found = rabin_karp(file_contents, query)\n",
    "print('rabin_karp:', found)\n",
    "found = kmp_search(file_contents, query)\n",
    "print('kmp_search:', found)\n",
    "aho_corasick = AhoCorasick()\n",
    "#found = aho_corasick(file_contents, query)\n",
    "#print('AhoCorasick:', found)"
   ]
  },
  {
   "cell_type": "code",
   "execution_count": null,
   "metadata": {},
   "outputs": [],
   "source": []
  }
 ],
 "metadata": {
  "kernelspec": {
   "display_name": "fsearch",
   "language": "python",
   "name": "python3"
  },
  "language_info": {
   "codemirror_mode": {
    "name": "ipython",
    "version": 3
   },
   "file_extension": ".py",
   "mimetype": "text/x-python",
   "name": "python",
   "nbconvert_exporter": "python",
   "pygments_lexer": "ipython3",
   "version": "3.7.12"
  }
 },
 "nbformat": 4,
 "nbformat_minor": 2
}
